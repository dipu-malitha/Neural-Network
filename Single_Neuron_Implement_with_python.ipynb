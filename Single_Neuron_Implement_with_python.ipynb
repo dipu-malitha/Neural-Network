{
  "nbformat": 4,
  "nbformat_minor": 0,
  "metadata": {
    "colab": {
      "provenance": [],
      "authorship_tag": "ABX9TyMC0jBtI9xXmyvq+ckCkt9g",
      "include_colab_link": true
    },
    "kernelspec": {
      "name": "python3",
      "display_name": "Python 3"
    },
    "language_info": {
      "name": "python"
    }
  },
  "cells": [
    {
      "cell_type": "markdown",
      "metadata": {
        "id": "view-in-github",
        "colab_type": "text"
      },
      "source": [
        "<a href=\"https://colab.research.google.com/github/dipu-malitha/Neural-Network/blob/main/Single_Neuron_Implement_with_python.ipynb\" target=\"_parent\"><img src=\"https://colab.research.google.com/assets/colab-badge.svg\" alt=\"Open In Colab\"/></a>"
      ]
    },
    {
      "cell_type": "code",
      "execution_count": 1,
      "metadata": {
        "id": "S7gJ7DZXydOf"
      },
      "outputs": [],
      "source": [
        "import numpy as np"
      ]
    },
    {
      "cell_type": "code",
      "source": [
        "def sigmoid(x):\n",
        "  return 1/(1 + np.exp(-x))"
      ],
      "metadata": {
        "id": "-fXD7qNNymzX"
      },
      "execution_count": 2,
      "outputs": []
    },
    {
      "cell_type": "code",
      "source": [
        "def feedforward ( weights, bias, inputs ):\n",
        "  return sigmoid(np.dot(weights, inputs) + bias)"
      ],
      "metadata": {
        "id": "1hA5UPG2y227"
      },
      "execution_count": 3,
      "outputs": []
    },
    {
      "cell_type": "code",
      "source": [
        "weights = [0,1]\n",
        "bias = 0.5\n",
        "inputs = [2,3]\n",
        "\n",
        "output = feedforward(weights, bias, inputs)\n",
        "print(f\"Our neuron network output is: {output} for inputs: {inputs}\")"
      ],
      "metadata": {
        "colab": {
          "base_uri": "https://localhost:8080/"
        },
        "id": "mQlOoDWZzKOV",
        "outputId": "3d42b548-c15d-4ccb-f4d6-583f753c834c"
      },
      "execution_count": 5,
      "outputs": [
        {
          "output_type": "stream",
          "name": "stdout",
          "text": [
            "Our neuron network output is: 0.9706877692486436 for inputs: [2, 3]\n"
          ]
        }
      ]
    },
    {
      "cell_type": "code",
      "source": [
        "def classify ( x, threshold = 0.50 ):\n",
        "  return \"Yes\" if x > threshold else \"No\""
      ],
      "metadata": {
        "id": "NBxebV48z3e2"
      },
      "execution_count": 6,
      "outputs": []
    },
    {
      "cell_type": "code",
      "source": [
        "result = classify(output)\n",
        "print ( f\" The neuron says: {result} \")"
      ],
      "metadata": {
        "colab": {
          "base_uri": "https://localhost:8080/"
        },
        "id": "uCOwkscB0IOU",
        "outputId": "737087ec-2444-4cd2-b825-5a3e299955b5"
      },
      "execution_count": 7,
      "outputs": [
        {
          "output_type": "stream",
          "name": "stdout",
          "text": [
            " The neuron says: Yes \n"
          ]
        }
      ]
    }
  ]
}