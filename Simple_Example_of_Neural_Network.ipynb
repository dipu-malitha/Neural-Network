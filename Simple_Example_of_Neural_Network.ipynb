{
  "nbformat": 4,
  "nbformat_minor": 0,
  "metadata": {
    "colab": {
      "provenance": [],
      "authorship_tag": "ABX9TyNndF+cVk3DqaZpjGhXtQWb",
      "include_colab_link": true
    },
    "kernelspec": {
      "name": "python3",
      "display_name": "Python 3"
    },
    "language_info": {
      "name": "python"
    }
  },
  "cells": [
    {
      "cell_type": "markdown",
      "metadata": {
        "id": "view-in-github",
        "colab_type": "text"
      },
      "source": [
        "<a href=\"https://colab.research.google.com/github/dipu-malitha/Neural-Network/blob/main/Simple_Example_of_Neural_Network.ipynb\" target=\"_parent\"><img src=\"https://colab.research.google.com/assets/colab-badge.svg\" alt=\"Open In Colab\"/></a>"
      ]
    },
    {
      "cell_type": "markdown",
      "source": [
        "**Import numpy for easy to format math formula**"
      ],
      "metadata": {
        "id": "W69bZkRtnqNP"
      }
    },
    {
      "cell_type": "code",
      "execution_count": 1,
      "metadata": {
        "id": "TPuJ3kAhkgxs"
      },
      "outputs": [],
      "source": [
        "import numpy as np"
      ]
    },
    {
      "cell_type": "markdown",
      "source": [
        "**Making a function defination**"
      ],
      "metadata": {
        "id": "ge5oXTIEn1fk"
      }
    },
    {
      "cell_type": "code",
      "source": [
        "def sigmoid (x):\n",
        "#our activation fuction: f(x) = 1 /(1+e^(x))\n",
        " return 1/ (1 + np.exp(-x))\n"
      ],
      "metadata": {
        "id": "tqOKh43nltFE"
      },
      "execution_count": 3,
      "outputs": []
    },
    {
      "cell_type": "markdown",
      "source": [
        "**Making a class**"
      ],
      "metadata": {
        "id": "7RugCv8boBCA"
      }
    },
    {
      "cell_type": "code",
      "source": [
        "class Neuron:\n",
        "  def __init__(self, weights, bias):\n",
        "    self.weights = weights\n",
        "    self.bias = bias\n",
        "  def feedforward(self,inputs):\n",
        "    total = np.dot(self.weights, inputs) + self.bias\n",
        "    return sigmoid(total)"
      ],
      "metadata": {
        "id": "beFjZGcPmbh7"
      },
      "execution_count": 7,
      "outputs": []
    },
    {
      "cell_type": "markdown",
      "source": [
        "**Checking a simple example**"
      ],
      "metadata": {
        "id": "XXJ1EzP6oJvq"
      }
    },
    {
      "cell_type": "code",
      "source": [
        "weights = np.array([0,1])\n",
        "bias = 4\n",
        "n = Neuron(weights, bias)\n",
        "x = np.array([2,3])\n",
        "print (n.feedforward(x))\n"
      ],
      "metadata": {
        "colab": {
          "base_uri": "https://localhost:8080/"
        },
        "id": "uTfU_s78mlGc",
        "outputId": "5936f648-84e0-4967-ca08-bb22c76ded4b"
      },
      "execution_count": 8,
      "outputs": [
        {
          "output_type": "stream",
          "name": "stdout",
          "text": [
            "0.9990889488055994\n"
          ]
        }
      ]
    }
  ]
}