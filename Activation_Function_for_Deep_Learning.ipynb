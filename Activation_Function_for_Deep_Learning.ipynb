{
  "nbformat": 4,
  "nbformat_minor": 0,
  "metadata": {
    "colab": {
      "provenance": [],
      "authorship_tag": "ABX9TyOVgiR0nlP/3vVsAr2/H/XS",
      "include_colab_link": true
    },
    "kernelspec": {
      "name": "python3",
      "display_name": "Python 3"
    },
    "language_info": {
      "name": "python"
    }
  },
  "cells": [
    {
      "cell_type": "markdown",
      "metadata": {
        "id": "view-in-github",
        "colab_type": "text"
      },
      "source": [
        "<a href=\"https://colab.research.google.com/github/dipu-malitha/Neural-Network/blob/main/Activation_Function_for_Deep_Learning.ipynb\" target=\"_parent\"><img src=\"https://colab.research.google.com/assets/colab-badge.svg\" alt=\"Open In Colab\"/></a>"
      ]
    },
    {
      "cell_type": "markdown",
      "source": [
        "**Import numpy for creating equatiom**"
      ],
      "metadata": {
        "id": "Kcrr7q3EW88L"
      }
    },
    {
      "cell_type": "code",
      "execution_count": 1,
      "metadata": {
        "id": "l5ystJCFWhGn"
      },
      "outputs": [],
      "source": [
        "import numpy as np"
      ]
    },
    {
      "cell_type": "markdown",
      "source": [
        "**1. ReLU-Rectified Linear Unit (Hidden Layer)**"
      ],
      "metadata": {
        "id": "URIYFaagXJka"
      }
    },
    {
      "cell_type": "code",
      "source": [
        "def ReLU(x):\n",
        "  return np.maximum(0,x)"
      ],
      "metadata": {
        "id": "A2Nq46TnXaco"
      },
      "execution_count": 3,
      "outputs": []
    },
    {
      "cell_type": "code",
      "source": [
        "x= ReLU(-10)\n",
        "y= ReLu(10)\n",
        "print(x)\n",
        "print(y)"
      ],
      "metadata": {
        "colab": {
          "base_uri": "https://localhost:8080/"
        },
        "id": "OZLif327XjzX",
        "outputId": "8be90be3-7c16-492a-a840-f7feb006797a"
      },
      "execution_count": 8,
      "outputs": [
        {
          "output_type": "stream",
          "name": "stdout",
          "text": [
            "0\n",
            "10\n"
          ]
        }
      ]
    },
    {
      "cell_type": "code",
      "source": [
        "ReLU(np.array([-10,10]))"
      ],
      "metadata": {
        "colab": {
          "base_uri": "https://localhost:8080/"
        },
        "id": "H2LIr6_BYB4L",
        "outputId": "bf554189-a52a-4bdd-f5ea-d623971eedf4"
      },
      "execution_count": 9,
      "outputs": [
        {
          "output_type": "execute_result",
          "data": {
            "text/plain": [
              "array([ 0, 10])"
            ]
          },
          "metadata": {},
          "execution_count": 9
        }
      ]
    },
    {
      "cell_type": "markdown",
      "source": [
        "**2.Leaky ReLU (Hidden Layer)**"
      ],
      "metadata": {
        "id": "ncJ-Odj8YGfe"
      }
    },
    {
      "cell_type": "code",
      "source": [
        "def Leaky_ReLU(x, alpha = 0.1):\n",
        "  return np.where(x>0,x, x*alpha)"
      ],
      "metadata": {
        "id": "_qrfnncMYaQc"
      },
      "execution_count": 12,
      "outputs": []
    },
    {
      "cell_type": "code",
      "source": [
        "Leaky_ReLU(-.5)"
      ],
      "metadata": {
        "colab": {
          "base_uri": "https://localhost:8080/"
        },
        "id": "Jj4EDNkMYvOg",
        "outputId": "c5548d5b-e566-40a0-ff81-4d814edce24a"
      },
      "execution_count": 31,
      "outputs": [
        {
          "output_type": "execute_result",
          "data": {
            "text/plain": [
              "array(-0.05)"
            ]
          },
          "metadata": {},
          "execution_count": 31
        }
      ]
    },
    {
      "cell_type": "code",
      "source": [
        "Leaky_ReLU(10)"
      ],
      "metadata": {
        "colab": {
          "base_uri": "https://localhost:8080/"
        },
        "id": "9Ow9dtyAY1Vr",
        "outputId": "704f334a-f887-4b9e-b2dd-f989e4af76aa"
      },
      "execution_count": 14,
      "outputs": [
        {
          "output_type": "execute_result",
          "data": {
            "text/plain": [
              "array(10.)"
            ]
          },
          "metadata": {},
          "execution_count": 14
        }
      ]
    },
    {
      "cell_type": "code",
      "source": [
        "Leaky_ReLU(np.array([-5,5]))"
      ],
      "metadata": {
        "colab": {
          "base_uri": "https://localhost:8080/"
        },
        "id": "XzSgXmkUZuSz",
        "outputId": "b7a19159-82df-4027-dad0-bf5ce2a00e5c"
      },
      "execution_count": 25,
      "outputs": [
        {
          "output_type": "execute_result",
          "data": {
            "text/plain": [
              "array([-0.5,  5. ])"
            ]
          },
          "metadata": {},
          "execution_count": 25
        }
      ]
    },
    {
      "cell_type": "markdown",
      "source": [
        "**3.ELU-Exponential lenear Unit ( Hidden Layer)**"
      ],
      "metadata": {
        "id": "y1Zzq-aRaYi6"
      }
    },
    {
      "cell_type": "code",
      "source": [
        "def ELU (x,alpha=1.0):\n",
        "  return np.where(x>0, x, alpha*(np.exp(x)-1))"
      ],
      "metadata": {
        "id": "kbAaA9GkaWJp"
      },
      "execution_count": 43,
      "outputs": []
    },
    {
      "cell_type": "code",
      "source": [
        "ELU(5)"
      ],
      "metadata": {
        "colab": {
          "base_uri": "https://localhost:8080/"
        },
        "id": "BagJt-zPaYMd",
        "outputId": "0de7a122-1b42-4156-b3e7-6f607c08cbd9"
      },
      "execution_count": 44,
      "outputs": [
        {
          "output_type": "execute_result",
          "data": {
            "text/plain": [
              "array(5.)"
            ]
          },
          "metadata": {},
          "execution_count": 44
        }
      ]
    },
    {
      "cell_type": "code",
      "source": [
        "ELU(np.array([-1,0,0,1,2]))"
      ],
      "metadata": {
        "colab": {
          "base_uri": "https://localhost:8080/"
        },
        "id": "7PmhowAFfn6F",
        "outputId": "535c6181-f40d-4626-a738-418a30ac43de"
      },
      "execution_count": 46,
      "outputs": [
        {
          "output_type": "execute_result",
          "data": {
            "text/plain": [
              "array([-0.63212056,  0.        ,  0.        ,  1.        ,  2.        ])"
            ]
          },
          "metadata": {},
          "execution_count": 46
        }
      ]
    },
    {
      "cell_type": "markdown",
      "source": [
        "**4.Sigmoid ( Outlayer and Binary classification problem)**"
      ],
      "metadata": {
        "id": "cENTcVZDgaLU"
      }
    },
    {
      "cell_type": "code",
      "source": [
        "def sigmoid(x):\n",
        "  return 1/ (1 + np.exp(x))"
      ],
      "metadata": {
        "id": "yeN7fRCtgkXE"
      },
      "execution_count": 54,
      "outputs": []
    },
    {
      "cell_type": "code",
      "source": [
        "sigmoid(5)"
      ],
      "metadata": {
        "colab": {
          "base_uri": "https://localhost:8080/"
        },
        "id": "n2KqTc0wgtQd",
        "outputId": "b300dfe9-b7ef-4d8c-c2bb-16ea897c7e90"
      },
      "execution_count": 55,
      "outputs": [
        {
          "output_type": "execute_result",
          "data": {
            "text/plain": [
              "np.float64(0.0066928509242848554)"
            ]
          },
          "metadata": {},
          "execution_count": 55
        }
      ]
    },
    {
      "cell_type": "code",
      "source": [
        "sigmoid(np.array([1,2,0,-1]))"
      ],
      "metadata": {
        "colab": {
          "base_uri": "https://localhost:8080/"
        },
        "id": "Oe2KXSVHg3XX",
        "outputId": "1c48299c-b0f0-412d-bacb-358a3045d716"
      },
      "execution_count": 56,
      "outputs": [
        {
          "output_type": "execute_result",
          "data": {
            "text/plain": [
              "array([0.26894142, 0.11920292, 0.5       , 0.73105858])"
            ]
          },
          "metadata": {},
          "execution_count": 56
        }
      ]
    },
    {
      "cell_type": "markdown",
      "source": [
        "**5.Softmax (Outlayer and multiclass problems)**"
      ],
      "metadata": {
        "id": "c85-5jhNhJbW"
      }
    },
    {
      "cell_type": "code",
      "source": [
        "def softmax (x):\n",
        "  e_x = np.exp(x - np.max(x))\n",
        "  return e_x / e_x.sum(axis=0)"
      ],
      "metadata": {
        "id": "OsPIuuG3hIiv"
      },
      "execution_count": 57,
      "outputs": []
    },
    {
      "cell_type": "code",
      "source": [
        "softmax(np.array([1,2,0,-1]))"
      ],
      "metadata": {
        "colab": {
          "base_uri": "https://localhost:8080/"
        },
        "id": "HC8eFpkuiEQI",
        "outputId": "acbdda5c-3cf9-44f8-aaf8-570261dbc3e5"
      },
      "execution_count": 65,
      "outputs": [
        {
          "output_type": "execute_result",
          "data": {
            "text/plain": [
              "array([0.23688282, 0.64391426, 0.08714432, 0.0320586 ])"
            ]
          },
          "metadata": {},
          "execution_count": 65
        }
      ]
    },
    {
      "cell_type": "markdown",
      "source": [
        "**6.Swish (Hidden Layer)**"
      ],
      "metadata": {
        "id": "2iXjUYesjBLb"
      }
    },
    {
      "cell_type": "code",
      "source": [
        "def swish (x, beta = 1.0):\n",
        "  return x * sigmoid(beta* x)"
      ],
      "metadata": {
        "id": "v2Q4dXk4iKSC"
      },
      "execution_count": 71,
      "outputs": []
    },
    {
      "cell_type": "code",
      "source": [
        "swish(5)"
      ],
      "metadata": {
        "colab": {
          "base_uri": "https://localhost:8080/"
        },
        "id": "S2BcIPZrjPZb",
        "outputId": "387b7724-de44-4fc0-b6b4-406c41c92065"
      },
      "execution_count": 72,
      "outputs": [
        {
          "output_type": "execute_result",
          "data": {
            "text/plain": [
              "np.float64(0.03346425462142428)"
            ]
          },
          "metadata": {},
          "execution_count": 72
        }
      ]
    },
    {
      "cell_type": "code",
      "source": [
        "swish(np.array([-1,0,1,2]))"
      ],
      "metadata": {
        "colab": {
          "base_uri": "https://localhost:8080/"
        },
        "id": "bNALgAB_jXzX",
        "outputId": "365f2990-a453-478b-ec10-1846f2ed1f16"
      },
      "execution_count": 73,
      "outputs": [
        {
          "output_type": "execute_result",
          "data": {
            "text/plain": [
              "array([-0.73105858,  0.        ,  0.26894142,  0.23840584])"
            ]
          },
          "metadata": {},
          "execution_count": 73
        }
      ]
    },
    {
      "cell_type": "markdown",
      "source": [
        "**7.Lenear(Output layer)**"
      ],
      "metadata": {
        "id": "VsRjyIT-jzB3"
      }
    },
    {
      "cell_type": "code",
      "source": [
        "def linear(x):\n",
        "  return x"
      ],
      "metadata": {
        "id": "zPjpIpJVjygE"
      },
      "execution_count": 74,
      "outputs": []
    },
    {
      "cell_type": "code",
      "source": [
        "linear(np.array([-1,0,1,2]))"
      ],
      "metadata": {
        "colab": {
          "base_uri": "https://localhost:8080/"
        },
        "id": "g9P5UbGDj_IB",
        "outputId": "26d7bc52-a5a4-46a9-9650-4c209b5ac234"
      },
      "execution_count": 75,
      "outputs": [
        {
          "output_type": "execute_result",
          "data": {
            "text/plain": [
              "array([-1,  0,  1,  2])"
            ]
          },
          "metadata": {},
          "execution_count": 75
        }
      ]
    },
    {
      "cell_type": "markdown",
      "source": [
        "**8. Tanh (Hyperbolic Tangent)**"
      ],
      "metadata": {
        "id": "QDe51DURkJUi"
      }
    },
    {
      "cell_type": "code",
      "source": [
        "def tanh(x):\n",
        "  return (np.exp(x) - np.exp(-x)) / (np.exp(x) + np.exp(-x))"
      ],
      "metadata": {
        "id": "nIHr3Zo3kEk9"
      },
      "execution_count": 76,
      "outputs": []
    },
    {
      "cell_type": "code",
      "source": [
        "tanh(5)"
      ],
      "metadata": {
        "colab": {
          "base_uri": "https://localhost:8080/"
        },
        "id": "jhsJgKL3kXqO",
        "outputId": "9e44098d-1aeb-47f1-b583-293f702c6d31"
      },
      "execution_count": 77,
      "outputs": [
        {
          "output_type": "execute_result",
          "data": {
            "text/plain": [
              "np.float64(0.999909204262595)"
            ]
          },
          "metadata": {},
          "execution_count": 77
        }
      ]
    },
    {
      "cell_type": "code",
      "source": [
        "tanh(np.array([-1,0,1,2]))"
      ],
      "metadata": {
        "colab": {
          "base_uri": "https://localhost:8080/"
        },
        "id": "8zqpMLSNkZ9c",
        "outputId": "eb34b5b5-8d4f-483d-e36f-9da19a25a984"
      },
      "execution_count": 78,
      "outputs": [
        {
          "output_type": "execute_result",
          "data": {
            "text/plain": [
              "array([-0.76159416,  0.        ,  0.76159416,  0.96402758])"
            ]
          },
          "metadata": {},
          "execution_count": 78
        }
      ]
    }
  ]
}